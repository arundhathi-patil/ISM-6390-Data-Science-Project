{
 "cells": [
  {
   "cell_type": "code",
   "execution_count": 63,
   "metadata": {},
   "outputs": [],
   "source": [
    "'''\n",
    "\n",
    "Setup Info \n",
    "\n",
    "conda create -n news_stock  python=3.7 anaconda\n",
    "activate news_stock\n",
    "pip install xgboost\n",
    "\n",
    "\n",
    "'''\n",
    "\n"
   ]
  },
  {
   "cell_type": "code",
   "execution_count": null,
   "metadata": {},
   "outputs": [],
   "source": [
    "#Importing all the modules need \n",
    "import nltk\n",
    "import pandas as pd\n",
    "import numpy as np\n",
    "from sklearn.discriminant_analysis import LinearDiscriminantAnalysis\n",
    "from sklearn.neighbors import KNeighborsClassifier\n",
    "from sklearn.tree import DecisionTreeClassifier\n",
    "from sklearn.naive_bayes import GaussianNB\n",
    "from sklearn.svm import SVC\n",
    "from sklearn.ensemble import RandomForestClassifier\n",
    "from xgboost import XGBClassifier"
   ]
  },
  {
   "cell_type": "code",
   "execution_count": 64,
   "metadata": {},
   "outputs": [],
   "source": [
    "data = pd.read_csv(\"combined with sentiment.csv\")"
   ]
  },
  {
   "cell_type": "code",
   "execution_count": 65,
   "metadata": {},
   "outputs": [
    {
     "data": {
      "text/plain": [
       "Index(['Date', 'Label', 'Top1', 'Top2', 'Top3', 'Top4', 'Top5', 'Top6', 'Top7',\n",
       "       'Top8',\n",
       "       ...\n",
       "       'Top23 neutral', 'Top23 negative', 'Top24 CompoundValue',\n",
       "       'Top24 positive', 'Top24 neutral', 'Top24 negative',\n",
       "       'Top25 CompoundValue', 'Top25 positive', 'Top25 neutral',\n",
       "       'Top25 negative'],\n",
       "      dtype='object', length=128)"
      ]
     },
     "execution_count": 65,
     "metadata": {},
     "output_type": "execute_result"
    }
   ],
   "source": [
    "data.columns"
   ]
  },
  {
   "cell_type": "code",
   "execution_count": 66,
   "metadata": {},
   "outputs": [
    {
     "data": {
      "text/html": [
       "<div>\n",
       "<style scoped>\n",
       "    .dataframe tbody tr th:only-of-type {\n",
       "        vertical-align: middle;\n",
       "    }\n",
       "\n",
       "    .dataframe tbody tr th {\n",
       "        vertical-align: top;\n",
       "    }\n",
       "\n",
       "    .dataframe thead th {\n",
       "        text-align: right;\n",
       "    }\n",
       "</style>\n",
       "<table border=\"1\" class=\"dataframe\">\n",
       "  <thead>\n",
       "    <tr style=\"text-align: right;\">\n",
       "      <th></th>\n",
       "      <th>Date</th>\n",
       "      <th>Label</th>\n",
       "      <th>Top1</th>\n",
       "      <th>Top2</th>\n",
       "      <th>Top3</th>\n",
       "      <th>Top4</th>\n",
       "      <th>Top5</th>\n",
       "      <th>Top6</th>\n",
       "      <th>Top7</th>\n",
       "      <th>Top8</th>\n",
       "      <th>...</th>\n",
       "      <th>Top23 neutral</th>\n",
       "      <th>Top23 negative</th>\n",
       "      <th>Top24 CompoundValue</th>\n",
       "      <th>Top24 positive</th>\n",
       "      <th>Top24 neutral</th>\n",
       "      <th>Top24 negative</th>\n",
       "      <th>Top25 CompoundValue</th>\n",
       "      <th>Top25 positive</th>\n",
       "      <th>Top25 neutral</th>\n",
       "      <th>Top25 negative</th>\n",
       "    </tr>\n",
       "  </thead>\n",
       "  <tbody>\n",
       "    <tr>\n",
       "      <th>0</th>\n",
       "      <td>8/8/2008</td>\n",
       "      <td>0</td>\n",
       "      <td>b\"Georgia 'downs two Russian warplanes' as cou...</td>\n",
       "      <td>b'BREAKING: Musharraf to be impeached.'</td>\n",
       "      <td>b'Russia Today: Columns of troops roll into So...</td>\n",
       "      <td>b'Russian tanks are moving towards the capital...</td>\n",
       "      <td>b\"Afghan children raped with 'impunity,' U.N. ...</td>\n",
       "      <td>b'150 Russian tanks have entered South Ossetia...</td>\n",
       "      <td>b\"Breaking: Georgia invades South Ossetia, Rus...</td>\n",
       "      <td>b\"The 'enemy combatent' trials are nothing but...</td>\n",
       "      <td>...</td>\n",
       "      <td>0.860</td>\n",
       "      <td>0.140</td>\n",
       "      <td>-0.8519</td>\n",
       "      <td>0.000</td>\n",
       "      <td>0.350</td>\n",
       "      <td>0.650</td>\n",
       "      <td>0.4019</td>\n",
       "      <td>0.351</td>\n",
       "      <td>0.649</td>\n",
       "      <td>0.0</td>\n",
       "    </tr>\n",
       "    <tr>\n",
       "      <th>1</th>\n",
       "      <td>8/11/2008</td>\n",
       "      <td>1</td>\n",
       "      <td>b'Why wont America and Nato help us? If they w...</td>\n",
       "      <td>b'Bush puts foot down on Georgian conflict'</td>\n",
       "      <td>b\"Jewish Georgian minister: Thanks to Israeli ...</td>\n",
       "      <td>b'Georgian army flees in disarray as Russians ...</td>\n",
       "      <td>b\"Olympic opening ceremony fireworks 'faked'\"</td>\n",
       "      <td>b'What were the Mossad with fraudulent New Zea...</td>\n",
       "      <td>b'Russia angered by Israeli military sale to G...</td>\n",
       "      <td>b'An American citizen living in S.Ossetia blam...</td>\n",
       "      <td>...</td>\n",
       "      <td>0.753</td>\n",
       "      <td>0.247</td>\n",
       "      <td>-0.1832</td>\n",
       "      <td>0.263</td>\n",
       "      <td>0.414</td>\n",
       "      <td>0.323</td>\n",
       "      <td>0.0000</td>\n",
       "      <td>0.000</td>\n",
       "      <td>1.000</td>\n",
       "      <td>0.0</td>\n",
       "    </tr>\n",
       "  </tbody>\n",
       "</table>\n",
       "<p>2 rows × 128 columns</p>\n",
       "</div>"
      ],
      "text/plain": [
       "        Date  Label                                               Top1  \\\n",
       "0   8/8/2008      0  b\"Georgia 'downs two Russian warplanes' as cou...   \n",
       "1  8/11/2008      1  b'Why wont America and Nato help us? If they w...   \n",
       "\n",
       "                                          Top2  \\\n",
       "0      b'BREAKING: Musharraf to be impeached.'   \n",
       "1  b'Bush puts foot down on Georgian conflict'   \n",
       "\n",
       "                                                Top3  \\\n",
       "0  b'Russia Today: Columns of troops roll into So...   \n",
       "1  b\"Jewish Georgian minister: Thanks to Israeli ...   \n",
       "\n",
       "                                                Top4  \\\n",
       "0  b'Russian tanks are moving towards the capital...   \n",
       "1  b'Georgian army flees in disarray as Russians ...   \n",
       "\n",
       "                                                Top5  \\\n",
       "0  b\"Afghan children raped with 'impunity,' U.N. ...   \n",
       "1      b\"Olympic opening ceremony fireworks 'faked'\"   \n",
       "\n",
       "                                                Top6  \\\n",
       "0  b'150 Russian tanks have entered South Ossetia...   \n",
       "1  b'What were the Mossad with fraudulent New Zea...   \n",
       "\n",
       "                                                Top7  \\\n",
       "0  b\"Breaking: Georgia invades South Ossetia, Rus...   \n",
       "1  b'Russia angered by Israeli military sale to G...   \n",
       "\n",
       "                                                Top8  ... Top23 neutral  \\\n",
       "0  b\"The 'enemy combatent' trials are nothing but...  ...         0.860   \n",
       "1  b'An American citizen living in S.Ossetia blam...  ...         0.753   \n",
       "\n",
       "  Top23 negative Top24 CompoundValue Top24 positive Top24 neutral  \\\n",
       "0          0.140             -0.8519          0.000         0.350   \n",
       "1          0.247             -0.1832          0.263         0.414   \n",
       "\n",
       "  Top24 negative Top25 CompoundValue Top25 positive Top25 neutral  \\\n",
       "0          0.650              0.4019          0.351         0.649   \n",
       "1          0.323              0.0000          0.000         1.000   \n",
       "\n",
       "  Top25 negative  \n",
       "0            0.0  \n",
       "1            0.0  \n",
       "\n",
       "[2 rows x 128 columns]"
      ]
     },
     "execution_count": 66,
     "metadata": {},
     "output_type": "execute_result"
    }
   ],
   "source": [
    "data.head(2)"
   ]
  },
  {
   "cell_type": "code",
   "execution_count": 105,
   "metadata": {},
   "outputs": [],
   "source": [
    "columns_to_predict_1=['Top1 CompoundValue']\n",
    "columns_to_predict_2=['Top1 CompoundValue', 'Top2 CompoundValue','Top3 CompoundValue']\n",
    "\n",
    "\n",
    "CompoundValue_to_predict_3=['Top1 CompoundValue', 'Top2 CompoundValue', 'Top3 CompoundValue',\n",
    "                      'Top4 CompoundValue', 'Top5 CompoundValue','Top6 CompoundValue', 'Top7 CompoundValue',\n",
    "                      'Top8 CompoundValue', 'Top9 CompoundValue','Top10 CompoundValue', 'Top11 CompoundValue',\n",
    "                      'Top12 CompoundValue', 'Top13 CompoundValue','Top14 CompoundValue', 'Top15 CompoundValue',\n",
    "                     'Top16 CompoundValue', 'Top17 CompoundValue','Top18 CompoundValue', 'Top19 CompoundValue',\n",
    "                      'Top20 CompoundValue', 'Top21 CompoundValue','Top22 CompoundValue', 'Top23 CompoundValue',\n",
    "                      'Top24 CompoundValue', 'Top25 CompoundValue']\n",
    "\n",
    "positive_to_predict_3=['Top1 positive', 'Top2 positive','Top3 positive',\n",
    "                      'Top4 positive', 'Top5 positive','Top6 positive', 'Top7 positive',\n",
    "                      'Top8 positive', 'Top9 positive','Top10 positive', 'Top11 positive',\n",
    "                      'Top12 positive', 'Top13 positive','Top14 positive', 'Top15 positive',\n",
    "                     'Top16 positive', 'Top17 positive','Top18 positive', 'Top19 positive',\n",
    "                      'Top20 positive', 'Top21 positive','Top22 positive', 'Top23 positive',\n",
    "                      'Top24 positive', 'Top25 positive']\n",
    "\n",
    "negative_to_predict_3=['Top1 negative', 'Top2 negative','Top3 negative', \n",
    "                      'Top4 negative', 'Top5 negative','Top6 negative', 'Top7 negative',\n",
    "                      'Top8 negative', 'Top9 negative','Top10 negative', 'Top11 negative',\n",
    "                      'Top12 negative', 'Top13 negative','Top14 negative', 'Top15 negative',\n",
    "                     'Top16 negative', 'Top17 negative','Top18 negative', 'Top19 negative',\n",
    "                      'Top20 negative', 'Top21 negative','Top22 negative', 'Top23 negative',\n",
    "                      'Top24 negative', 'Top25 negative']"
   ]
  },
  {
   "cell_type": "code",
   "execution_count": 119,
   "metadata": {},
   "outputs": [],
   "source": [
    "from sklearn.metrics import accuracy_score, classification_report, confusion_matrix\n",
    "from sklearn.linear_model import SGDClassifier, SGDRegressor,LogisticRegression\n",
    "def models(data_to_model,train,test):\n",
    "    num_folds = 10\n",
    "    scoring = 'accuracy'\n",
    "    # Append the models to the models list\n",
    "    models = []\n",
    "    models.append(('LR' , LogisticRegression(solver='lbfgs')))\n",
    "   \n",
    "    models.append(('KNN' , KNeighborsClassifier()))\n",
    "    models.append(('Decision TreeClassifier' , DecisionTreeClassifier()))\n",
    "    models.append(('Gaussian Naive Bayes' , GaussianNB()))\n",
    "    models.append(('SVM' , SVC(gamma='auto')))\n",
    "    models.append(('Random Forest' , RandomForestClassifier(n_estimators=50)))\n",
    "    models.append(('XGBoost',XGBClassifier()))\n",
    "    '''models.append(('XGBoost after tuning ',XGBClassifier(\n",
    "     learning_rate =0.1,\n",
    "     n_estimators=1000,\n",
    "     max_depth=5,\n",
    "     min_child_weight=1,\n",
    "     gamma=0,\n",
    "     subsample=0.8,\n",
    "     colsample_bytree=0.8,\n",
    "     objective= 'binary:logistic',\n",
    "     nthread=4,\n",
    "     scale_pos_weight=1,\n",
    "     seed=25)))'''\n",
    "    for name, model in models:\n",
    "        clf = model\n",
    "        clf.fit(train[data_to_model], train[\"Label\"])\n",
    "        y_pred = clf.predict(test[data_to_model])\n",
    "        accu_score = accuracy_score(test[\"Label\"], y_pred)\n",
    "        print(name,accu_score*100)\n"
   ]
  },
  {
   "cell_type": "code",
   "execution_count": 120,
   "metadata": {},
   "outputs": [
    {
     "data": {
      "text/plain": [
       "Index(['Top1 negative', 'Top2 negative', 'Top3 negative', 'Top4 negative',\n",
       "       'Top5 negative', 'Top6 negative', 'Top7 negative', 'Top8 negative',\n",
       "       'Top9 negative', 'Top10 negative', 'Top11 negative', 'Top12 negative',\n",
       "       'Top13 negative', 'Top14 negative', 'Top15 negative', 'Top16 negative',\n",
       "       'Top17 negative', 'Top18 negative', 'Top19 negative', 'Top20 negative',\n",
       "       'Top21 negative', 'Top22 negative', 'Top23 negative', 'Top24 negative',\n",
       "       'Top25 negative', 'start_trend'],\n",
       "      dtype='object')"
      ]
     },
     "execution_count": 120,
     "metadata": {},
     "output_type": "execute_result"
    }
   ],
   "source": [
    "train[data_to_model].columns"
   ]
  },
  {
   "cell_type": "markdown",
   "metadata": {},
   "source": [
    "Taking data from  2008-08-08 to 2014-12-31 as train and\n",
    "2015-01-01 to 2016-07-01 as test"
   ]
  },
  {
   "cell_type": "code",
   "execution_count": 121,
   "metadata": {
    "scrolled": true
   },
   "outputs": [
    {
     "name": "stdout",
     "output_type": "stream",
     "text": [
      "Accuracy with sentiment\n",
      "LR 51.20068610634648\n",
      "KNN 50.17152658662093\n",
      "Decision TreeClassifier 48.54202401372213\n",
      "Gaussian Naive Bayes 50.08576329331046\n",
      "SVM 53.087478559176674\n",
      "Random Forest 51.45797598627787\n",
      "XGBoost 51.02915951972555\n",
      "\n",
      "\n",
      "Accuracy with start trend and sentiment\n",
      "LR 59.86277873070326\n",
      "KNN 53.00171526586621\n",
      "Decision TreeClassifier 52.05831903945112\n",
      "Gaussian Naive Bayes 61.492281303602056\n",
      "SVM 62.17838765008577\n",
      "Random Forest 56.68953687821612\n",
      "XGBoost 57.20411663807891\n"
     ]
    }
   ],
   "source": [
    "train = data[data['Date'] < '2015-01-01']\n",
    "test = data[data['Date'] > '2014-12-31']\n",
    "print(\"Accuracy with sentiment\")\n",
    "data_to_model=CompoundValue_to_predict_3\n",
    "models(data_to_model,train,test)\n",
    "data_to_model=data_to_model+['start_trend']\n",
    "data_to_model\n",
    "print(\"\\n\\nAccuracy with start trend and sentiment\")\n",
    "models(data_to_model,train,test)"
   ]
  },
  {
   "cell_type": "markdown",
   "metadata": {},
   "source": [
    "Taking 80% of data as train and 20% as test"
   ]
  },
  {
   "cell_type": "code",
   "execution_count": 122,
   "metadata": {},
   "outputs": [
    {
     "name": "stdout",
     "output_type": "stream",
     "text": [
      "1591\n",
      "Accuracy with sentiment\n",
      "LR 50.0\n",
      "KNN 46.984924623115575\n",
      "Decision TreeClassifier 50.753768844221106\n",
      "Gaussian Naive Bayes 51.256281407035175\n",
      "SVM 50.753768844221106\n",
      "Random Forest 46.984924623115575\n",
      "XGBoost 48.49246231155779\n",
      "\n",
      "\n",
      "Accuracy with start trend and sentiment\n",
      "LR 63.31658291457286\n",
      "KNN 57.03517587939698\n",
      "Decision TreeClassifier 54.52261306532663\n",
      "Gaussian Naive Bayes 61.80904522613066\n",
      "SVM 66.33165829145729\n",
      "Random Forest 57.78894472361809\n",
      "XGBoost 62.311557788944725\n"
     ]
    }
   ],
   "source": [
    "train_size = int(len(data.index) * 0.8)\n",
    "\n",
    "print(train_size)\n",
    "train = data.iloc[:train_size]\n",
    "test = data.iloc[train_size:]\n",
    "\n",
    "print(\"Accuracy with sentiment\")\n",
    "data_to_model=CompoundValue_to_predict_3\n",
    "models(data_to_model,train,test)\n",
    "data_to_model=data_to_model+['start_trend']\n",
    "data_to_model\n",
    "print(\"\\n\\nAccuracy with start trend and sentiment\")\n",
    "models(data_to_model,train,test)"
   ]
  },
  {
   "cell_type": "markdown",
   "metadata": {},
   "source": [
    "Creating model using positive sentiments only"
   ]
  },
  {
   "cell_type": "code",
   "execution_count": 117,
   "metadata": {},
   "outputs": [
    {
     "name": "stdout",
     "output_type": "stream",
     "text": [
      "1591\n",
      "Accuracy with sentiment\n",
      "LR 0.5125628140703518\n",
      "KNN 0.49748743718592964\n",
      "Decision TreeClassifier 0.49748743718592964\n",
      "Gaussian Naive Bayes 0.457286432160804\n",
      "SVM 0.507537688442211\n",
      "Random Forest 0.4849246231155779\n",
      "XGBoost 0.46984924623115576\n",
      "\n",
      "\n",
      "Accuracy with start trend and sentiment\n",
      "LR 0.6457286432160804\n",
      "KNN 0.5703517587939698\n",
      "Decision TreeClassifier 0.5552763819095478\n",
      "Gaussian Naive Bayes 0.5753768844221105\n",
      "SVM 0.6633165829145728\n",
      "Random Forest 0.6105527638190955\n",
      "XGBoost 0.6105527638190955\n"
     ]
    }
   ],
   "source": [
    "train_size = int(len(data.index) * 0.8)\n",
    "\n",
    "print(train_size)\n",
    "train = data.iloc[:train_size]\n",
    "test = data.iloc[train_size:]\n",
    "\n",
    "print(\"Accuracy with sentiment\")\n",
    "data_to_model=positive_to_predict_3\n",
    "models(data_to_model,train,test)\n",
    "data_to_model=data_to_model+['start_trend']\n",
    "data_to_model\n",
    "print(\"\\n\\nAccuracy with start trend and sentiment\")\n",
    "models(data_to_model,train,test)"
   ]
  },
  {
   "cell_type": "code",
   "execution_count": 118,
   "metadata": {},
   "outputs": [
    {
     "name": "stdout",
     "output_type": "stream",
     "text": [
      "1591\n",
      "Accuracy with sentiment\n",
      "LR 0.4849246231155779\n",
      "KNN 0.49246231155778897\n",
      "Decision TreeClassifier 0.4949748743718593\n",
      "Gaussian Naive Bayes 0.4949748743718593\n",
      "SVM 0.507537688442211\n",
      "Random Forest 0.45226130653266333\n",
      "XGBoost 0.5025125628140703\n",
      "\n",
      "\n",
      "Accuracy with start trend and sentiment\n",
      "LR 0.6155778894472361\n",
      "KNN 0.5628140703517588\n",
      "Decision TreeClassifier 0.5477386934673367\n",
      "Gaussian Naive Bayes 0.6256281407035176\n",
      "SVM 0.6633165829145728\n",
      "Random Forest 0.5979899497487438\n",
      "XGBoost 0.5804020100502513\n"
     ]
    }
   ],
   "source": [
    "train_size = int(len(data.index) * 0.8)\n",
    "\n",
    "print(train_size)\n",
    "train = data.iloc[:train_size]\n",
    "test = data.iloc[train_size:]\n",
    "\n",
    "print(\"Accuracy with sentiment\")\n",
    "data_to_model=negative_to_predict_3\n",
    "models(data_to_model,train,test)\n",
    "data_to_model=data_to_model+['start_trend']\n",
    "data_to_model\n",
    "print(\"\\n\\nAccuracy with start trend and sentiment\")\n",
    "models(data_to_model,train,test)"
   ]
  },
  {
   "cell_type": "code",
   "execution_count": null,
   "metadata": {},
   "outputs": [],
   "source": []
  },
  {
   "cell_type": "code",
   "execution_count": null,
   "metadata": {},
   "outputs": [],
   "source": []
  },
  {
   "cell_type": "code",
   "execution_count": null,
   "metadata": {},
   "outputs": [],
   "source": []
  }
 ],
 "metadata": {
  "kernelspec": {
   "display_name": "Python 3",
   "language": "python",
   "name": "python3"
  },
  "language_info": {
   "codemirror_mode": {
    "name": "ipython",
    "version": 3
   },
   "file_extension": ".py",
   "mimetype": "text/x-python",
   "name": "python",
   "nbconvert_exporter": "python",
   "pygments_lexer": "ipython3",
   "version": "3.7.3"
  }
 },
 "nbformat": 4,
 "nbformat_minor": 2
}
