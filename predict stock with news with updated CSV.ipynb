{
 "cells": [
  {
   "cell_type": "code",
   "execution_count": 1,
   "metadata": {},
   "outputs": [],
   "source": [
    "import nltk\n",
    "import pandas as pd\n",
    "import numpy as np\n",
    "from sklearn.discriminant_analysis import LinearDiscriminantAnalysis\n",
    "from sklearn.neighbors import KNeighborsClassifier\n",
    "from sklearn.tree import DecisionTreeClassifier\n",
    "from sklearn.naive_bayes import GaussianNB\n",
    "from sklearn.svm import SVC\n",
    "from sklearn.ensemble import RandomForestClassifier"
   ]
  },
  {
   "cell_type": "code",
   "execution_count": 2,
   "metadata": {},
   "outputs": [
    {
     "name": "stderr",
     "output_type": "stream",
     "text": [
      "[nltk_data] Downloading package vader_lexicon to\n",
      "[nltk_data]     C:\\Users\\bibin\\AppData\\Roaming\\nltk_data...\n",
      "[nltk_data]   Package vader_lexicon is already up-to-date!\n"
     ]
    },
    {
     "data": {
      "text/plain": [
       "True"
      ]
     },
     "execution_count": 2,
     "metadata": {},
     "output_type": "execute_result"
    }
   ],
   "source": [
    "import nltk\n",
    "nltk.download('vader_lexicon')"
   ]
  },
  {
   "cell_type": "code",
   "execution_count": 3,
   "metadata": {},
   "outputs": [],
   "source": [
    "data = pd.read_csv(\"combined with sentiment.csv\")"
   ]
  },
  {
   "cell_type": "code",
   "execution_count": 4,
   "metadata": {},
   "outputs": [
    {
     "data": {
      "text/plain": [
       "Index(['Date', 'Label', 'Top1', 'Top2', 'Top3', 'Top4', 'Top5', 'Top6', 'Top7',\n",
       "       'Top8',\n",
       "       ...\n",
       "       'Top23 neutral', 'Top23 negative', 'Top24 CompoundValue',\n",
       "       'Top24 positive', 'Top24 neutral', 'Top24 negative',\n",
       "       'Top25 CompoundValue', 'Top25 positive', 'Top25 neutral',\n",
       "       'Top25 negative'],\n",
       "      dtype='object', length=128)"
      ]
     },
     "execution_count": 4,
     "metadata": {},
     "output_type": "execute_result"
    }
   ],
   "source": [
    "data.columns"
   ]
  },
  {
   "cell_type": "code",
   "execution_count": 5,
   "metadata": {},
   "outputs": [
    {
     "data": {
      "text/html": [
       "<div>\n",
       "<style scoped>\n",
       "    .dataframe tbody tr th:only-of-type {\n",
       "        vertical-align: middle;\n",
       "    }\n",
       "\n",
       "    .dataframe tbody tr th {\n",
       "        vertical-align: top;\n",
       "    }\n",
       "\n",
       "    .dataframe thead th {\n",
       "        text-align: right;\n",
       "    }\n",
       "</style>\n",
       "<table border=\"1\" class=\"dataframe\">\n",
       "  <thead>\n",
       "    <tr style=\"text-align: right;\">\n",
       "      <th></th>\n",
       "      <th>Date</th>\n",
       "      <th>Label</th>\n",
       "      <th>Top1</th>\n",
       "      <th>Top2</th>\n",
       "      <th>Top3</th>\n",
       "      <th>Top4</th>\n",
       "      <th>Top5</th>\n",
       "      <th>Top6</th>\n",
       "      <th>Top7</th>\n",
       "      <th>Top8</th>\n",
       "      <th>...</th>\n",
       "      <th>Top23 neutral</th>\n",
       "      <th>Top23 negative</th>\n",
       "      <th>Top24 CompoundValue</th>\n",
       "      <th>Top24 positive</th>\n",
       "      <th>Top24 neutral</th>\n",
       "      <th>Top24 negative</th>\n",
       "      <th>Top25 CompoundValue</th>\n",
       "      <th>Top25 positive</th>\n",
       "      <th>Top25 neutral</th>\n",
       "      <th>Top25 negative</th>\n",
       "    </tr>\n",
       "  </thead>\n",
       "  <tbody>\n",
       "    <tr>\n",
       "      <th>0</th>\n",
       "      <td>8/8/2008</td>\n",
       "      <td>0</td>\n",
       "      <td>b\"Georgia 'downs two Russian warplanes' as cou...</td>\n",
       "      <td>b'BREAKING: Musharraf to be impeached.'</td>\n",
       "      <td>b'Russia Today: Columns of troops roll into So...</td>\n",
       "      <td>b'Russian tanks are moving towards the capital...</td>\n",
       "      <td>b\"Afghan children raped with 'impunity,' U.N. ...</td>\n",
       "      <td>b'150 Russian tanks have entered South Ossetia...</td>\n",
       "      <td>b\"Breaking: Georgia invades South Ossetia, Rus...</td>\n",
       "      <td>b\"The 'enemy combatent' trials are nothing but...</td>\n",
       "      <td>...</td>\n",
       "      <td>0.860</td>\n",
       "      <td>0.140</td>\n",
       "      <td>-0.8519</td>\n",
       "      <td>0.000</td>\n",
       "      <td>0.350</td>\n",
       "      <td>0.650</td>\n",
       "      <td>0.4019</td>\n",
       "      <td>0.351</td>\n",
       "      <td>0.649</td>\n",
       "      <td>0.0</td>\n",
       "    </tr>\n",
       "    <tr>\n",
       "      <th>1</th>\n",
       "      <td>8/11/2008</td>\n",
       "      <td>1</td>\n",
       "      <td>b'Why wont America and Nato help us? If they w...</td>\n",
       "      <td>b'Bush puts foot down on Georgian conflict'</td>\n",
       "      <td>b\"Jewish Georgian minister: Thanks to Israeli ...</td>\n",
       "      <td>b'Georgian army flees in disarray as Russians ...</td>\n",
       "      <td>b\"Olympic opening ceremony fireworks 'faked'\"</td>\n",
       "      <td>b'What were the Mossad with fraudulent New Zea...</td>\n",
       "      <td>b'Russia angered by Israeli military sale to G...</td>\n",
       "      <td>b'An American citizen living in S.Ossetia blam...</td>\n",
       "      <td>...</td>\n",
       "      <td>0.753</td>\n",
       "      <td>0.247</td>\n",
       "      <td>-0.1832</td>\n",
       "      <td>0.263</td>\n",
       "      <td>0.414</td>\n",
       "      <td>0.323</td>\n",
       "      <td>0.0000</td>\n",
       "      <td>0.000</td>\n",
       "      <td>1.000</td>\n",
       "      <td>0.0</td>\n",
       "    </tr>\n",
       "  </tbody>\n",
       "</table>\n",
       "<p>2 rows × 128 columns</p>\n",
       "</div>"
      ],
      "text/plain": [
       "        Date  Label                                               Top1  \\\n",
       "0   8/8/2008      0  b\"Georgia 'downs two Russian warplanes' as cou...   \n",
       "1  8/11/2008      1  b'Why wont America and Nato help us? If they w...   \n",
       "\n",
       "                                          Top2  \\\n",
       "0      b'BREAKING: Musharraf to be impeached.'   \n",
       "1  b'Bush puts foot down on Georgian conflict'   \n",
       "\n",
       "                                                Top3  \\\n",
       "0  b'Russia Today: Columns of troops roll into So...   \n",
       "1  b\"Jewish Georgian minister: Thanks to Israeli ...   \n",
       "\n",
       "                                                Top4  \\\n",
       "0  b'Russian tanks are moving towards the capital...   \n",
       "1  b'Georgian army flees in disarray as Russians ...   \n",
       "\n",
       "                                                Top5  \\\n",
       "0  b\"Afghan children raped with 'impunity,' U.N. ...   \n",
       "1      b\"Olympic opening ceremony fireworks 'faked'\"   \n",
       "\n",
       "                                                Top6  \\\n",
       "0  b'150 Russian tanks have entered South Ossetia...   \n",
       "1  b'What were the Mossad with fraudulent New Zea...   \n",
       "\n",
       "                                                Top7  \\\n",
       "0  b\"Breaking: Georgia invades South Ossetia, Rus...   \n",
       "1  b'Russia angered by Israeli military sale to G...   \n",
       "\n",
       "                                                Top8  ... Top23 neutral  \\\n",
       "0  b\"The 'enemy combatent' trials are nothing but...  ...         0.860   \n",
       "1  b'An American citizen living in S.Ossetia blam...  ...         0.753   \n",
       "\n",
       "  Top23 negative Top24 CompoundValue Top24 positive Top24 neutral  \\\n",
       "0          0.140             -0.8519          0.000         0.350   \n",
       "1          0.247             -0.1832          0.263         0.414   \n",
       "\n",
       "  Top24 negative Top25 CompoundValue Top25 positive Top25 neutral  \\\n",
       "0          0.650              0.4019          0.351         0.649   \n",
       "1          0.323              0.0000          0.000         1.000   \n",
       "\n",
       "  Top25 negative  \n",
       "0            0.0  \n",
       "1            0.0  \n",
       "\n",
       "[2 rows x 128 columns]"
      ]
     },
     "execution_count": 5,
     "metadata": {},
     "output_type": "execute_result"
    }
   ],
   "source": [
    "data.head(2)"
   ]
  },
  {
   "cell_type": "code",
   "execution_count": 6,
   "metadata": {},
   "outputs": [],
   "source": [
    "columns_to_predict_1=['Top1 CompoundValue']\n",
    "columns_to_predict_2=['Top1 CompoundValue', 'Top2 CompoundValue','Top3 CompoundValue']\n",
    "\n",
    "\n",
    "CompoundValue_to_predict_3=['Top1 CompoundValue', 'Top2 CompoundValue','Top3 CompoundValue', 'Top3 CompoundValue',\n",
    "                      'Top4 CompoundValue', 'Top5 CompoundValue','Top6 CompoundValue', 'Top7 CompoundValue',\n",
    "                      'Top8 CompoundValue', 'Top9 CompoundValue','Top10 CompoundValue', 'Top11 CompoundValue',\n",
    "                      'Top12 CompoundValue', 'Top13 CompoundValue','Top14 CompoundValue', 'Top15 CompoundValue',\n",
    "                     'Top16 CompoundValue', 'Top17 CompoundValue','Top18 CompoundValue', 'Top19 CompoundValue',\n",
    "                      'Top20 CompoundValue', 'Top21 CompoundValue','Top22 CompoundValue', 'Top23 CompoundValue',\n",
    "                      'Top24 CompoundValue', 'Top25 CompoundValue']\n",
    "\n",
    "positive_to_predict_3=['Top1 positive', 'Top2 positive','Top3 positive', 'Top3 positive',\n",
    "                      'Top4 positive', 'Top5 positive','Top6 positive', 'Top7 positive',\n",
    "                      'Top8 positive', 'Top9 positive','Top10 positive', 'Top11 positive',\n",
    "                      'Top12 positive', 'Top13 positive','Top14 positive', 'Top15 positive',\n",
    "                     'Top16 positive', 'Top17 positive','Top18 positive', 'Top19 positive',\n",
    "                      'Top20 positive', 'Top21 positive','Top22 positive', 'Top23 positive',\n",
    "                      'Top24 positive', 'Top25 positive']\n",
    "\n",
    "negative_to_predict_3=['Top1 negative', 'Top2 negative','Top3 negative', 'Top3 negative',\n",
    "                      'Top4 negative', 'Top5 negative','Top6 negative', 'Top7 negative',\n",
    "                      'Top8 negative', 'Top9 negative','Top10 negative', 'Top11 negative',\n",
    "                      'Top12 negative', 'Top13 negative','Top14 negative', 'Top15 negative',\n",
    "                     'Top16 negative', 'Top17 negative','Top18 negative', 'Top19 negative',\n",
    "                      'Top20 negative', 'Top21 negative','Top22 negative', 'Top23 negative',\n",
    "                      'Top24 negative', 'Top25 negative']"
   ]
  },
  {
   "cell_type": "code",
   "execution_count": 14,
   "metadata": {},
   "outputs": [],
   "source": [
    "from sklearn.metrics import accuracy_score, classification_report, confusion_matrix\n",
    "from sklearn.linear_model import SGDClassifier, SGDRegressor,LogisticRegression\n",
    "def models(data_to_model,train,test):\n",
    "    num_folds = 10\n",
    "    scoring = 'accuracy'\n",
    "    # Append the models to the models list\n",
    "    models = []\n",
    "    models.append(('LR' , LogisticRegression()))\n",
    "    models.append(('LDA' , LinearDiscriminantAnalysis()))\n",
    "    models.append(('KNN' , KNeighborsClassifier()))\n",
    "    models.append(('CART' , DecisionTreeClassifier()))\n",
    "    models.append(('NB' , GaussianNB()))\n",
    "    models.append(('SVM' , SVC()))\n",
    "    #models.append(('RF' , RandomForestClassifier(n_estimators=50)))\n",
    "    for name, model in models:\n",
    "        clf = model\n",
    "        clf.fit(train[data_to_model], train[\"Label\"])\n",
    "        y_pred = clf.predict(test[data_to_model])\n",
    "        accu_score = accuracy_score(test[\"Label\"], y_pred)\n",
    "        print(name,accu_score)\n"
   ]
  },
  {
   "cell_type": "code",
   "execution_count": 18,
   "metadata": {},
   "outputs": [
    {
     "name": "stdout",
     "output_type": "stream",
     "text": [
      "Accuracy with sentiment\n",
      "LR 0.5137221269296741\n",
      "LDA 0.5128644939965694\n",
      "KNN 0.5137221269296741\n",
      "CART 0.5034305317324185\n",
      "NB 0.5\n"
     ]
    },
    {
     "name": "stderr",
     "output_type": "stream",
     "text": [
      "C:\\Users\\bibin\\Anaconda2\\envs\\tf_env\\lib\\site-packages\\sklearn\\linear_model\\logistic.py:433: FutureWarning: Default solver will be changed to 'lbfgs' in 0.22. Specify a solver to silence this warning.\n",
      "  FutureWarning)\n",
      "C:\\Users\\bibin\\Anaconda2\\envs\\tf_env\\lib\\site-packages\\sklearn\\discriminant_analysis.py:388: UserWarning: Variables are collinear.\n",
      "  warnings.warn(\"Variables are collinear.\")\n",
      "C:\\Users\\bibin\\Anaconda2\\envs\\tf_env\\lib\\site-packages\\sklearn\\svm\\base.py:196: FutureWarning: The default value of gamma will change from 'auto' to 'scale' in version 0.22 to account better for unscaled features. Set gamma explicitly to 'auto' or 'scale' to avoid this warning.\n",
      "  \"avoid this warning.\", FutureWarning)\n"
     ]
    },
    {
     "name": "stdout",
     "output_type": "stream",
     "text": [
      "SVM 0.5308747855917667\n",
      "\n",
      "\n",
      "nAccuracy with start trend and sentiment\n",
      "LR 0.5994854202401372\n",
      "LDA 0.6037735849056604\n",
      "KNN 0.5334476843910806\n",
      "CART 0.5334476843910806\n",
      "NB 0.614065180102916\n"
     ]
    },
    {
     "name": "stderr",
     "output_type": "stream",
     "text": [
      "C:\\Users\\bibin\\Anaconda2\\envs\\tf_env\\lib\\site-packages\\sklearn\\linear_model\\logistic.py:433: FutureWarning: Default solver will be changed to 'lbfgs' in 0.22. Specify a solver to silence this warning.\n",
      "  FutureWarning)\n",
      "C:\\Users\\bibin\\Anaconda2\\envs\\tf_env\\lib\\site-packages\\sklearn\\discriminant_analysis.py:388: UserWarning: Variables are collinear.\n",
      "  warnings.warn(\"Variables are collinear.\")\n",
      "C:\\Users\\bibin\\Anaconda2\\envs\\tf_env\\lib\\site-packages\\sklearn\\svm\\base.py:196: FutureWarning: The default value of gamma will change from 'auto' to 'scale' in version 0.22 to account better for unscaled features. Set gamma explicitly to 'auto' or 'scale' to avoid this warning.\n",
      "  \"avoid this warning.\", FutureWarning)\n"
     ]
    },
    {
     "name": "stdout",
     "output_type": "stream",
     "text": [
      "SVM 0.6217838765008576\n"
     ]
    }
   ],
   "source": [
    "train = data[data['Date'] < '2015-01-01']\n",
    "test = data[data['Date'] > '2014-12-31']\n",
    "print(\"Accuracy with sentiment\")\n",
    "data_to_model=CompoundValue_to_predict_3\n",
    "models(data_to_model,train,test)\n",
    "data_to_model=data_to_model+['start_trend']\n",
    "data_to_model\n",
    "print(\"\\n\\nAccuracy with start trend and sentiment\")\n",
    "models(data_to_model,train,test)"
   ]
  },
  {
   "cell_type": "code",
   "execution_count": null,
   "metadata": {},
   "outputs": [],
   "source": []
  }
 ],
 "metadata": {
  "kernelspec": {
   "display_name": "Python 3",
   "language": "python",
   "name": "python3"
  },
  "language_info": {
   "codemirror_mode": {
    "name": "ipython",
    "version": 3
   },
   "file_extension": ".py",
   "mimetype": "text/x-python",
   "name": "python",
   "nbconvert_exporter": "python",
   "pygments_lexer": "ipython3",
   "version": "3.7.3"
  }
 },
 "nbformat": 4,
 "nbformat_minor": 2
}
