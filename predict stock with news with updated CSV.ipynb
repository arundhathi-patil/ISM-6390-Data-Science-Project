{
 "cells": [
  {
   "cell_type": "markdown",
   "metadata": {},
   "source": [
    "'''\n",
    "\n",
    "Setup Info \n",
    "\n",
    "conda create -n news_stock  python=3.7 anaconda\n",
    "\n",
    "\n",
    "activate news_stock\n",
    "\n",
    "\n",
    "\n",
    "pip install xgboost\n",
    "\n",
    "\n",
    "\n",
    "Data Info :\n",
    "\n",
    "Added sentiment values to csv using  jupyter notebook\n",
    "Extracting the sentiment values for the news headlines and saving to CSV File\n",
    "\n",
    "Added start trend by comparing current days opening value with previous days adjecent close value\n",
    "\n",
    "combined with sentiment.csv\n",
    "\n",
    "\n",
    "Credits :   \n",
    "\n",
    "Sun, J. (2016, August). Daily News for Stock Market Prediction, Version 1. \n",
    "Retrieved 03/25/2019  from https://www.kaggle.com/aaron7sun/stocknews\n",
    "\n",
    "https://www.kaggle.com/lseiyjg/use-news-to-predict-stock-markets\n",
    "\n",
    "http://t-redactyl.io/blog/2017/04/using-vader-to-handle-sentiment-analysis-with-social-media-text.html\n",
    "\n",
    "\n",
    "'''\n",
    "\n"
   ]
  },
  {
   "cell_type": "code",
   "execution_count": 21,
   "metadata": {},
   "outputs": [],
   "source": [
    "#Importing all the modules need \n",
    "import nltk\n",
    "import pandas as pd\n",
    "import numpy as np\n",
    "from sklearn.discriminant_analysis import LinearDiscriminantAnalysis\n",
    "from sklearn.neighbors import KNeighborsClassifier\n",
    "from sklearn.tree import DecisionTreeClassifier\n",
    "from sklearn.naive_bayes import GaussianNB\n",
    "from sklearn.svm import SVC\n",
    "from sklearn.ensemble import RandomForestClassifier\n",
    "from xgboost import XGBClassifier\n",
    "from sklearn.feature_extraction.text import CountVectorizer\n",
    "import matplotlib\n",
    "import matplotlib.pyplot as plt\n",
    "import pandas as pd\n",
    "from sklearn.feature_extraction.text import TfidfVectorizer,CountVectorizer\n",
    "from scipy import sparse\n",
    "from scipy.sparse import issparse\n",
    "from sklearn.linear_model import LogisticRegression\n",
    "from sklearn.metrics import accuracy_score"
   ]
  },
  {
   "cell_type": "code",
   "execution_count": 22,
   "metadata": {},
   "outputs": [],
   "source": [
    "#CSV created through program\n",
    "data = pd.read_csv(\"combined with sentiment.csv\")"
   ]
  },
  {
   "cell_type": "code",
   "execution_count": 23,
   "metadata": {},
   "outputs": [
    {
     "data": {
      "text/plain": [
       "Index(['Date', 'Label', 'Top1', 'Top2', 'Top3', 'Top4', 'Top5', 'Top6', 'Top7',\n",
       "       'Top8',\n",
       "       ...\n",
       "       'Top23 neutral', 'Top23 negative', 'Top24 CompoundValue',\n",
       "       'Top24 positive', 'Top24 neutral', 'Top24 negative',\n",
       "       'Top25 CompoundValue', 'Top25 positive', 'Top25 neutral',\n",
       "       'Top25 negative'],\n",
       "      dtype='object', length=128)"
      ]
     },
     "execution_count": 23,
     "metadata": {},
     "output_type": "execute_result"
    }
   ],
   "source": [
    "data.columns"
   ]
  },
  {
   "cell_type": "code",
   "execution_count": 24,
   "metadata": {},
   "outputs": [
    {
     "data": {
      "text/html": [
       "<div>\n",
       "<style scoped>\n",
       "    .dataframe tbody tr th:only-of-type {\n",
       "        vertical-align: middle;\n",
       "    }\n",
       "\n",
       "    .dataframe tbody tr th {\n",
       "        vertical-align: top;\n",
       "    }\n",
       "\n",
       "    .dataframe thead th {\n",
       "        text-align: right;\n",
       "    }\n",
       "</style>\n",
       "<table border=\"1\" class=\"dataframe\">\n",
       "  <thead>\n",
       "    <tr style=\"text-align: right;\">\n",
       "      <th></th>\n",
       "      <th>Date</th>\n",
       "      <th>Label</th>\n",
       "      <th>Top1</th>\n",
       "      <th>Top2</th>\n",
       "      <th>Top3</th>\n",
       "      <th>Top4</th>\n",
       "      <th>Top5</th>\n",
       "      <th>Top6</th>\n",
       "      <th>Top7</th>\n",
       "      <th>Top8</th>\n",
       "      <th>...</th>\n",
       "      <th>Top23 neutral</th>\n",
       "      <th>Top23 negative</th>\n",
       "      <th>Top24 CompoundValue</th>\n",
       "      <th>Top24 positive</th>\n",
       "      <th>Top24 neutral</th>\n",
       "      <th>Top24 negative</th>\n",
       "      <th>Top25 CompoundValue</th>\n",
       "      <th>Top25 positive</th>\n",
       "      <th>Top25 neutral</th>\n",
       "      <th>Top25 negative</th>\n",
       "    </tr>\n",
       "  </thead>\n",
       "  <tbody>\n",
       "    <tr>\n",
       "      <th>0</th>\n",
       "      <td>8/8/2008</td>\n",
       "      <td>0</td>\n",
       "      <td>b\"Georgia 'downs two Russian warplanes' as cou...</td>\n",
       "      <td>b'BREAKING: Musharraf to be impeached.'</td>\n",
       "      <td>b'Russia Today: Columns of troops roll into So...</td>\n",
       "      <td>b'Russian tanks are moving towards the capital...</td>\n",
       "      <td>b\"Afghan children raped with 'impunity,' U.N. ...</td>\n",
       "      <td>b'150 Russian tanks have entered South Ossetia...</td>\n",
       "      <td>b\"Breaking: Georgia invades South Ossetia, Rus...</td>\n",
       "      <td>b\"The 'enemy combatent' trials are nothing but...</td>\n",
       "      <td>...</td>\n",
       "      <td>0.860</td>\n",
       "      <td>0.140</td>\n",
       "      <td>-0.8519</td>\n",
       "      <td>0.000</td>\n",
       "      <td>0.350</td>\n",
       "      <td>0.650</td>\n",
       "      <td>0.4019</td>\n",
       "      <td>0.351</td>\n",
       "      <td>0.649</td>\n",
       "      <td>0.0</td>\n",
       "    </tr>\n",
       "    <tr>\n",
       "      <th>1</th>\n",
       "      <td>8/11/2008</td>\n",
       "      <td>1</td>\n",
       "      <td>b'Why wont America and Nato help us? If they w...</td>\n",
       "      <td>b'Bush puts foot down on Georgian conflict'</td>\n",
       "      <td>b\"Jewish Georgian minister: Thanks to Israeli ...</td>\n",
       "      <td>b'Georgian army flees in disarray as Russians ...</td>\n",
       "      <td>b\"Olympic opening ceremony fireworks 'faked'\"</td>\n",
       "      <td>b'What were the Mossad with fraudulent New Zea...</td>\n",
       "      <td>b'Russia angered by Israeli military sale to G...</td>\n",
       "      <td>b'An American citizen living in S.Ossetia blam...</td>\n",
       "      <td>...</td>\n",
       "      <td>0.753</td>\n",
       "      <td>0.247</td>\n",
       "      <td>-0.1832</td>\n",
       "      <td>0.263</td>\n",
       "      <td>0.414</td>\n",
       "      <td>0.323</td>\n",
       "      <td>0.0000</td>\n",
       "      <td>0.000</td>\n",
       "      <td>1.000</td>\n",
       "      <td>0.0</td>\n",
       "    </tr>\n",
       "  </tbody>\n",
       "</table>\n",
       "<p>2 rows × 128 columns</p>\n",
       "</div>"
      ],
      "text/plain": [
       "        Date  Label                                               Top1  \\\n",
       "0   8/8/2008      0  b\"Georgia 'downs two Russian warplanes' as cou...   \n",
       "1  8/11/2008      1  b'Why wont America and Nato help us? If they w...   \n",
       "\n",
       "                                          Top2  \\\n",
       "0      b'BREAKING: Musharraf to be impeached.'   \n",
       "1  b'Bush puts foot down on Georgian conflict'   \n",
       "\n",
       "                                                Top3  \\\n",
       "0  b'Russia Today: Columns of troops roll into So...   \n",
       "1  b\"Jewish Georgian minister: Thanks to Israeli ...   \n",
       "\n",
       "                                                Top4  \\\n",
       "0  b'Russian tanks are moving towards the capital...   \n",
       "1  b'Georgian army flees in disarray as Russians ...   \n",
       "\n",
       "                                                Top5  \\\n",
       "0  b\"Afghan children raped with 'impunity,' U.N. ...   \n",
       "1      b\"Olympic opening ceremony fireworks 'faked'\"   \n",
       "\n",
       "                                                Top6  \\\n",
       "0  b'150 Russian tanks have entered South Ossetia...   \n",
       "1  b'What were the Mossad with fraudulent New Zea...   \n",
       "\n",
       "                                                Top7  \\\n",
       "0  b\"Breaking: Georgia invades South Ossetia, Rus...   \n",
       "1  b'Russia angered by Israeli military sale to G...   \n",
       "\n",
       "                                                Top8  ... Top23 neutral  \\\n",
       "0  b\"The 'enemy combatent' trials are nothing but...  ...         0.860   \n",
       "1  b'An American citizen living in S.Ossetia blam...  ...         0.753   \n",
       "\n",
       "  Top23 negative Top24 CompoundValue Top24 positive Top24 neutral  \\\n",
       "0          0.140             -0.8519          0.000         0.350   \n",
       "1          0.247             -0.1832          0.263         0.414   \n",
       "\n",
       "  Top24 negative Top25 CompoundValue Top25 positive Top25 neutral  \\\n",
       "0          0.650              0.4019          0.351         0.649   \n",
       "1          0.323              0.0000          0.000         1.000   \n",
       "\n",
       "  Top25 negative  \n",
       "0            0.0  \n",
       "1            0.0  \n",
       "\n",
       "[2 rows x 128 columns]"
      ]
     },
     "execution_count": 24,
     "metadata": {},
     "output_type": "execute_result"
    }
   ],
   "source": [
    "data.head(2)"
   ]
  },
  {
   "cell_type": "code",
   "execution_count": 25,
   "metadata": {},
   "outputs": [],
   "source": [
    "\n",
    "#CSV from kaggle\n",
    "news = pd.read_csv('Combined_News_DJIA.csv')"
   ]
  },
  {
   "cell_type": "code",
   "execution_count": 26,
   "metadata": {},
   "outputs": [
    {
     "name": "stderr",
     "output_type": "stream",
     "text": [
      "[nltk_data] Downloading package stopwords to\n",
      "[nltk_data]     C:\\Users\\bibin\\AppData\\Roaming\\nltk_data...\n",
      "[nltk_data]   Package stopwords is already up-to-date!\n"
     ]
    }
   ],
   "source": [
    "\n",
    "nltk.download('stopwords')\n",
    "from nltk.corpus import stopwords\n",
    "stop = set(stopwords.words('english'))"
   ]
  },
  {
   "cell_type": "code",
   "execution_count": 27,
   "metadata": {},
   "outputs": [],
   "source": [
    "from nltk.tokenize import sent_tokenize, word_tokenize\n",
    "# Create a single string for each date (since we only want to look at word counts)\n",
    "combined_news = ''\n",
    "for row in range(0,len(news.index)):\n",
    "    combined_news+=' '.join(str(x).lower().strip() for x in news.iloc[row,2:27])\n",
    "vectorizer = CountVectorizer()\n",
    "news_vect = vectorizer.build_tokenizer()(combined_news)\n",
    "word_counts = pd.DataFrame([[x,news_vect.count(x)] for x in set(news_vect)], columns = ['Word', 'Count'])\n"
   ]
  },
  {
   "cell_type": "code",
   "execution_count": 28,
   "metadata": {},
   "outputs": [
    {
     "data": {
      "image/png": "[encoded data removed]",
      "text/plain": [
       "<Figure size 1152x1080 with 1 Axes>"
      ]
     },
     "metadata": {
      "needs_background": "light"
     },
     "output_type": "display_data"
    }
   ],
   "source": [
    "word_counts_adj = word_counts\n",
    "word_counts_adj = word_counts_adj.reset_index(drop=True)\n",
    "\n",
    "for i in word_counts['Word']:\n",
    "    if i in stop:\n",
    "        word_counts_adj = word_counts_adj.drop(word_counts_adj[word_counts_adj['Word'] == i].index)\n",
    "        \n",
    "word_counts_adj.index = word_counts_adj['Word']\n",
    "counts = word_counts_adj.sort_values(by='Count', ascending=False)[0:100].plot(kind='barh', figsize = (16,15))\n",
    "plt.show()"
   ]
  },
  {
   "cell_type": "code",
   "execution_count": 29,
   "metadata": {},
   "outputs": [
    {
     "name": "stdout",
     "output_type": "stream",
     "text": [
      "1591\n"
     ]
    },
    {
     "data": {
      "text/plain": [
       "[<matplotlib.lines.Line2D at 0x2c04574a7b8>]"
      ]
     },
     "execution_count": 29,
     "metadata": {},
     "output_type": "execute_result"
    },
    {
     "data": {
      "image/png": "[encoded data removed]",
      "text/plain": [
       "<Figure size 432x288 with 1 Axes>"
      ]
     },
     "metadata": {
      "needs_background": "light"
     },
     "output_type": "display_data"
    }
   ],
   "source": [
    "#Below plot shows the opening price split up into the respective train and test sets.\n",
    "\n",
    "stock = pd.read_csv(\"DJIA_table_with_start.csv\")\n",
    "train_size = int(len(stock.index) * 0.8)\n",
    "\n",
    "print(train_size)\n",
    "train = stock.iloc[:train_size]\n",
    "test = stock.iloc[train_size:]\n",
    "\n",
    "plt.plot(train['Open'])\n",
    "plt.plot([None for i in train['Open']] + [x for x in test['Open']])"
   ]
  },
  {
   "cell_type": "code",
   "execution_count": 30,
   "metadata": {},
   "outputs": [],
   "source": [
    "#Columns added using sentiment alaysis\n",
    "\n",
    "columns_to_predict_1=['Top1 CompoundValue']\n",
    "columns_to_predict_2=['Top1 CompoundValue', 'Top2 CompoundValue','Top3 CompoundValue']\n",
    "\n",
    "\n",
    "CompoundValue_to_predict_3=['Top1 CompoundValue', 'Top2 CompoundValue', 'Top3 CompoundValue',\n",
    "                      'Top4 CompoundValue', 'Top5 CompoundValue','Top6 CompoundValue', 'Top7 CompoundValue',\n",
    "                      'Top8 CompoundValue', 'Top9 CompoundValue','Top10 CompoundValue', 'Top11 CompoundValue',\n",
    "                      'Top12 CompoundValue', 'Top13 CompoundValue','Top14 CompoundValue', 'Top15 CompoundValue',\n",
    "                     'Top16 CompoundValue', 'Top17 CompoundValue','Top18 CompoundValue', 'Top19 CompoundValue',\n",
    "                      'Top20 CompoundValue', 'Top21 CompoundValue','Top22 CompoundValue', 'Top23 CompoundValue',\n",
    "                      'Top24 CompoundValue', 'Top25 CompoundValue']\n",
    "\n",
    "positive_to_predict_3=['Top1 positive', 'Top2 positive','Top3 positive',\n",
    "                      'Top4 positive', 'Top5 positive','Top6 positive', 'Top7 positive',\n",
    "                      'Top8 positive', 'Top9 positive','Top10 positive', 'Top11 positive',\n",
    "                      'Top12 positive', 'Top13 positive','Top14 positive', 'Top15 positive',\n",
    "                     'Top16 positive', 'Top17 positive','Top18 positive', 'Top19 positive',\n",
    "                      'Top20 positive', 'Top21 positive','Top22 positive', 'Top23 positive',\n",
    "                      'Top24 positive', 'Top25 positive']\n",
    "\n",
    "negative_to_predict_3=['Top1 negative', 'Top2 negative','Top3 negative', \n",
    "                      'Top4 negative', 'Top5 negative','Top6 negative', 'Top7 negative',\n",
    "                      'Top8 negative', 'Top9 negative','Top10 negative', 'Top11 negative',\n",
    "                      'Top12 negative', 'Top13 negative','Top14 negative', 'Top15 negative',\n",
    "                     'Top16 negative', 'Top17 negative','Top18 negative', 'Top19 negative',\n",
    "                      'Top20 negative', 'Top21 negative','Top22 negative', 'Top23 negative',\n",
    "                      'Top24 negative', 'Top25 negative']"
   ]
  },
  {
   "cell_type": "code",
   "execution_count": 31,
   "metadata": {},
   "outputs": [],
   "source": [
    "#Creating different models to predict the stock movement using the sentiment score and the start trend\n",
    "from sklearn.metrics import accuracy_score, classification_report, confusion_matrix\n",
    "from sklearn.linear_model import SGDClassifier, SGDRegressor,LogisticRegression\n",
    "def models(data_to_model,train,test):\n",
    "    num_folds = 10\n",
    "    scoring = 'accuracy'\n",
    "    # Append the models to the models list\n",
    "    models = []\n",
    "    models.append(('LR' , LogisticRegression(solver='lbfgs')))\n",
    "   \n",
    "    models.append(('KNN' , KNeighborsClassifier()))\n",
    "    models.append(('Decision TreeClassifier' , DecisionTreeClassifier()))\n",
    "    models.append(('Gaussian Naive Bayes' , GaussianNB()))\n",
    "    models.append(('SVM' , SVC(gamma='auto')))\n",
    "    models.append(('Random Forest' , RandomForestClassifier(n_estimators=50)))\n",
    "    models.append(('XGBoost',XGBClassifier()))\n",
    "    '''models.append(('XGBoost after tuning ',XGBClassifier(\n",
    "     learning_rate =0.1,\n",
    "     n_estimators=1000,\n",
    "     max_depth=5,\n",
    "     min_child_weight=1,\n",
    "     gamma=0,\n",
    "     subsample=0.8,\n",
    "     colsample_bytree=0.8,\n",
    "     objective= 'binary:logistic',\n",
    "     nthread=4,\n",
    "     scale_pos_weight=1,\n",
    "     seed=25)))'''\n",
    "    for name, model in models:\n",
    "        clf = model\n",
    "        clf.fit(train[data_to_model], train[\"Label\"])\n",
    "        y_pred = clf.predict(test[data_to_model])\n",
    "        accu_score = accuracy_score(test[\"Label\"], y_pred)\n",
    "        print(name,accu_score*100)\n"
   ]
  },
  {
   "cell_type": "markdown",
   "metadata": {},
   "source": [
    "Taking data from  2008-08-08 to 2014-12-31 as train and\n",
    "2015-01-01 to 2016-07-01 as test"
   ]
  },
  {
   "cell_type": "code",
   "execution_count": 33,
   "metadata": {
    "scrolled": true
   },
   "outputs": [
    {
     "name": "stdout",
     "output_type": "stream",
     "text": [
      "Accuracy with sentiment\n",
      "LR 51.20068610634648\n",
      "KNN 50.17152658662093\n",
      "Decision TreeClassifier 48.284734133790735\n",
      "Gaussian Naive Bayes 50.08576329331046\n",
      "SVM 53.087478559176674\n",
      "Random Forest 51.20068610634648\n",
      "XGBoost 51.02915951972555\n",
      "\n",
      "\n",
      "Accuracy with start trend and sentiment\n",
      "LR 59.86277873070326\n",
      "KNN 53.00171526586621\n",
      "Decision TreeClassifier 55.57461406518011\n",
      "Gaussian Naive Bayes 61.492281303602056\n",
      "SVM 62.17838765008577\n",
      "Random Forest 58.147512864494\n",
      "XGBoost 57.20411663807891\n"
     ]
    }
   ],
   "source": [
    "#Model with the compound value of sentiment\n",
    "train = data[data['Date'] < '2015-01-01']\n",
    "test = data[data['Date'] > '2014-12-31']\n",
    "print(\"Accuracy with sentiment\")\n",
    "data_to_model=CompoundValue_to_predict_3\n",
    "models(data_to_model,train,test)\n",
    "data_to_model=data_to_model+['start_trend']\n",
    "data_to_model\n",
    "print(\"\\n\\nAccuracy with start trend and sentiment\")\n",
    "models(data_to_model,train,test)"
   ]
  },
  {
   "cell_type": "markdown",
   "metadata": {},
   "source": [
    "Taking 80% of data as train and 20% as test"
   ]
  },
  {
   "cell_type": "code",
   "execution_count": 34,
   "metadata": {},
   "outputs": [
    {
     "name": "stdout",
     "output_type": "stream",
     "text": [
      "1591\n",
      "Accuracy with sentiment\n",
      "LR 50.0\n",
      "KNN 46.984924623115575\n",
      "Decision TreeClassifier 51.005025125628144\n",
      "Gaussian Naive Bayes 51.256281407035175\n",
      "SVM 50.753768844221106\n",
      "Random Forest 50.753768844221106\n",
      "XGBoost 48.49246231155779\n",
      "\n",
      "\n",
      "Accuracy with start trend and sentiment\n",
      "LR 63.31658291457286\n",
      "KNN 57.03517587939698\n",
      "Decision TreeClassifier 54.2713567839196\n",
      "Gaussian Naive Bayes 61.80904522613066\n",
      "SVM 66.33165829145729\n",
      "Random Forest 58.040201005025125\n",
      "XGBoost 62.311557788944725\n"
     ]
    }
   ],
   "source": [
    "train_size = int(len(data.index) * 0.8)\n",
    "\n",
    "print(train_size)\n",
    "train = data.iloc[:train_size]\n",
    "test = data.iloc[train_size:]\n",
    "\n",
    "print(\"Accuracy with sentiment\")\n",
    "data_to_model=CompoundValue_to_predict_3\n",
    "models(data_to_model,train,test)\n",
    "data_to_model=data_to_model+['start_trend']\n",
    "data_to_model\n",
    "print(\"\\n\\nAccuracy with start trend and sentiment\")\n",
    "models(data_to_model,train,test)"
   ]
  },
  {
   "cell_type": "markdown",
   "metadata": {},
   "source": [
    "Creating model using positive sentiments only"
   ]
  },
  {
   "cell_type": "code",
   "execution_count": 35,
   "metadata": {},
   "outputs": [
    {
     "name": "stdout",
     "output_type": "stream",
     "text": [
      "1591\n",
      "Accuracy with sentiment\n",
      "LR 51.256281407035175\n",
      "KNN 49.74874371859296\n",
      "Decision TreeClassifier 49.246231155778894\n",
      "Gaussian Naive Bayes 45.7286432160804\n",
      "SVM 50.753768844221106\n",
      "Random Forest 48.743718592964825\n",
      "XGBoost 46.984924623115575\n",
      "\n",
      "\n",
      "Accuracy with start trend and sentiment\n",
      "LR 64.57286432160804\n",
      "KNN 57.03517587939698\n",
      "Decision TreeClassifier 55.527638190954775\n",
      "Gaussian Naive Bayes 57.537688442211056\n",
      "SVM 66.33165829145729\n",
      "Random Forest 62.311557788944725\n",
      "XGBoost 61.05527638190955\n"
     ]
    }
   ],
   "source": [
    "train_size = int(len(data.index) * 0.8)\n",
    "\n",
    "print(train_size)\n",
    "train = data.iloc[:train_size]\n",
    "test = data.iloc[train_size:]\n",
    "\n",
    "print(\"Accuracy with sentiment\")\n",
    "data_to_model=positive_to_predict_3\n",
    "models(data_to_model,train,test)\n",
    "data_to_model=data_to_model+['start_trend']\n",
    "data_to_model\n",
    "print(\"\\n\\nAccuracy with start trend and sentiment\")\n",
    "models(data_to_model,train,test)"
   ]
  },
  {
   "cell_type": "code",
   "execution_count": 36,
   "metadata": {},
   "outputs": [
    {
     "name": "stdout",
     "output_type": "stream",
     "text": [
      "1591\n",
      "Accuracy with sentiment\n",
      "LR 48.49246231155779\n",
      "KNN 49.246231155778894\n",
      "Decision TreeClassifier 46.984924623115575\n",
      "Gaussian Naive Bayes 49.497487437185924\n",
      "SVM 50.753768844221106\n",
      "Random Forest 50.25125628140703\n",
      "XGBoost 50.25125628140703\n",
      "\n",
      "\n",
      "Accuracy with start trend and sentiment\n",
      "LR 61.55778894472361\n",
      "KNN 56.28140703517588\n",
      "Decision TreeClassifier 53.015075376884425\n",
      "Gaussian Naive Bayes 62.562814070351756\n",
      "SVM 66.33165829145729\n",
      "Random Forest 59.2964824120603\n",
      "XGBoost 58.040201005025125\n"
     ]
    }
   ],
   "source": [
    "train_size = int(len(data.index) * 0.8)\n",
    "\n",
    "print(train_size)\n",
    "train = data.iloc[:train_size]\n",
    "test = data.iloc[train_size:]\n",
    "\n",
    "print(\"Accuracy with sentiment\")\n",
    "data_to_model=negative_to_predict_3\n",
    "models(data_to_model,train,test)\n",
    "data_to_model=data_to_model+['start_trend']\n",
    "data_to_model\n",
    "print(\"\\n\\nAccuracy with start trend and sentiment\")\n",
    "models(data_to_model,train,test)"
   ]
  },
  {
   "cell_type": "markdown",
   "metadata": {},
   "source": [
    "Building test set and train set as 80% train ,20% test and 6 year train , 2 year test  "
   ]
  },
  {
   "cell_type": "code",
   "execution_count": 37,
   "metadata": {},
   "outputs": [],
   "source": [
    "data = pd.read_csv(r'C:/usf/Data Science Programming/project/Combined_News_DJIA_with_start.csv')\n",
    "train1 = data[data['Date'] < '2015-01-01']\n",
    "test1 = data[data['Date'] > '2014-12-31']\n",
    "train_size = int(len(data.index) * 0.8)\n",
    "train2 = data.iloc[:train_size]\n",
    "test2 = data.iloc[train_size:]"
   ]
  },
  {
   "cell_type": "markdown",
   "metadata": {},
   "source": [
    "#Predicting the stock movement using term frequency–inverse document frequency of news and logistic regression"
   ]
  },
  {
   "cell_type": "code",
   "execution_count": 38,
   "metadata": {},
   "outputs": [
    {
     "name": "stdout",
     "output_type": "stream",
     "text": [
      "Logic Regression  accuracy:  60.891938250428815\n"
     ]
    }
   ],
   "source": [
    "\n",
    "trainheadlines = []\n",
    "for row in range(0,len(train1.index)):\n",
    "    trainheadlines.append(' '.join(str(x) for x in train1.iloc[row,2:27]))\n",
    "advancedvectorizer = TfidfVectorizer( min_df=0.0039, max_df=0.1, max_features = 200000, ngram_range = (3, 3))\n",
    "advancedtrain = advancedvectorizer.fit_transform(trainheadlines)\n",
    "advancedtrain=sparse.hstack((advancedtrain,np.array(train1[\"start_trend\"])[:,None]))\n",
    "advancedmodel = LogisticRegression(solver='lbfgs')\n",
    "advancedmodel = advancedmodel.fit(advancedtrain, train1[\"Label\"])\n",
    "testheadlines = []\n",
    "for row in range(0,len(test1.index)):\n",
    "    testheadlines.append(' '.join(str(x) for x in test1.iloc[row,2:27]))\n",
    "advancedtest = advancedvectorizer.transform(testheadlines)\n",
    "advancedtest=sparse.hstack((advancedtest,np.array(test1[\"start_trend\"])[:,None]))\n",
    "\n",
    "preds = advancedmodel.predict(advancedtest)\n",
    "acc = accuracy_score(test1['Label'], preds)\n",
    "print('Logic Regression  accuracy: ', acc*100)"
   ]
  },
  {
   "cell_type": "code",
   "execution_count": 39,
   "metadata": {},
   "outputs": [
    {
     "name": "stdout",
     "output_type": "stream",
     "text": [
      "Logic Regression  accuracy:  65.82914572864321\n"
     ]
    }
   ],
   "source": [
    "trainheadlines = []\n",
    "for row in range(0,len(train2.index)):\n",
    "    trainheadlines.append(' '.join(str(x) for x in train2.iloc[row,2:27]))\n",
    "advancedvectorizer = TfidfVectorizer( min_df=0.0039, max_df=0.1, max_features = 200000, ngram_range = (3, 3))\n",
    "advancedtrain = advancedvectorizer.fit_transform(trainheadlines)\n",
    "advancedtrain=sparse.hstack((advancedtrain,np.array(train2[\"start_trend\"])[:,None]))\n",
    "advancedmodel = LogisticRegression(solver='lbfgs')\n",
    "advancedmodel = advancedmodel.fit(advancedtrain, train2[\"Label\"])\n",
    "testheadlines = []\n",
    "for row in range(0,len(test2.index)):\n",
    "    testheadlines.append(' '.join(str(x) for x in test2.iloc[row,2:27]))\n",
    "advancedtest = advancedvectorizer.transform(testheadlines)\n",
    "advancedtest=sparse.hstack((advancedtest,np.array(test2[\"start_trend\"])[:,None]))\n",
    "\n",
    "preds = advancedmodel.predict(advancedtest)\n",
    "acc = accuracy_score(test2['Label'], preds)\n",
    "print('Logic Regression  accuracy: ', acc*100)"
   ]
  },
  {
   "cell_type": "code",
   "execution_count": null,
   "metadata": {},
   "outputs": [],
   "source": []
  }
 ],
 "metadata": {
  "kernelspec": {
   "display_name": "Python 3",
   "language": "python",
   "name": "python3"
  },
  "language_info": {
   "codemirror_mode": {
    "name": "ipython",
    "version": 3
   },
   "file_extension": ".py",
   "mimetype": "text/x-python",
   "name": "python",
   "nbconvert_exporter": "python",
   "pygments_lexer": "ipython3",
   "version": "3.7.3"
  }
 },
 "nbformat": 4,
 "nbformat_minor": 2
}
