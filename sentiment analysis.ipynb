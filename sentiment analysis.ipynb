{
 "cells": [
  {
   "cell_type": "code",
   "execution_count": 99,
   "metadata": {},
   "outputs": [],
   "source": [
    "import nltk\n",
    "import pandas as pd\n",
    "import numpy as np\n",
    "from pprint import pprint"
   ]
  },
  {
   "cell_type": "code",
   "execution_count": 100,
   "metadata": {},
   "outputs": [],
   "source": [
    "data = pd.read_csv(\"Combined_News_DJIA_with_start.csv\")"
   ]
  },
  {
   "cell_type": "code",
   "execution_count": 101,
   "metadata": {},
   "outputs": [
    {
     "name": "stderr",
     "output_type": "stream",
     "text": [
      "[nltk_data] Downloading package vader_lexicon to\n",
      "[nltk_data]     C:\\Users\\bibin\\AppData\\Roaming\\nltk_data...\n",
      "[nltk_data]   Package vader_lexicon is already up-to-date!\n"
     ]
    },
    {
     "data": {
      "text/plain": [
       "True"
      ]
     },
     "execution_count": 101,
     "metadata": {},
     "output_type": "execute_result"
    }
   ],
   "source": [
    "import nltk\n",
    "nltk.download('vader_lexicon')"
   ]
  },
  {
   "cell_type": "code",
   "execution_count": 102,
   "metadata": {},
   "outputs": [
    {
     "data": {
      "text/plain": [
       "'b\"Georgia \\'downs two Russian warplanes\\' as countries move to brink of war\"'"
      ]
     },
     "execution_count": 102,
     "metadata": {},
     "output_type": "execute_result"
    }
   ],
   "source": [
    "data['Top1'][0]"
   ]
  },
  {
   "cell_type": "code",
   "execution_count": 103,
   "metadata": {},
   "outputs": [
    {
     "name": "stdout",
     "output_type": "stream",
     "text": [
      "Top1\n"
     ]
    },
    {
     "name": "stderr",
     "output_type": "stream",
     "text": [
      "C:\\Users\\bibin\\Anaconda2\\envs\\tf_env\\lib\\site-packages\\ipykernel_launcher.py:28: SettingWithCopyWarning: \n",
      "A value is trying to be set on a copy of a slice from a DataFrame\n",
      "\n",
      "See the caveats in the documentation: http://pandas.pydata.org/pandas-docs/stable/indexing.html#indexing-view-versus-copy\n",
      "C:\\Users\\bibin\\Anaconda2\\envs\\tf_env\\lib\\site-packages\\ipykernel_launcher.py:29: SettingWithCopyWarning: \n",
      "A value is trying to be set on a copy of a slice from a DataFrame\n",
      "\n",
      "See the caveats in the documentation: http://pandas.pydata.org/pandas-docs/stable/indexing.html#indexing-view-versus-copy\n",
      "C:\\Users\\bibin\\Anaconda2\\envs\\tf_env\\lib\\site-packages\\ipykernel_launcher.py:30: SettingWithCopyWarning: \n",
      "A value is trying to be set on a copy of a slice from a DataFrame\n",
      "\n",
      "See the caveats in the documentation: http://pandas.pydata.org/pandas-docs/stable/indexing.html#indexing-view-versus-copy\n",
      "C:\\Users\\bibin\\Anaconda2\\envs\\tf_env\\lib\\site-packages\\ipykernel_launcher.py:31: SettingWithCopyWarning: \n",
      "A value is trying to be set on a copy of a slice from a DataFrame\n",
      "\n",
      "See the caveats in the documentation: http://pandas.pydata.org/pandas-docs/stable/indexing.html#indexing-view-versus-copy\n"
     ]
    },
    {
     "name": "stdout",
     "output_type": "stream",
     "text": [
      "Top2\n",
      "Top3\n",
      "Top4\n",
      "Top5\n",
      "Top6\n",
      "Top7\n",
      "Top8\n",
      "Top9\n",
      "Top10\n",
      "Top11\n",
      "Top12\n",
      "Top13\n",
      "Top14\n",
      "Top15\n",
      "Top16\n",
      "Top17\n",
      "Top18\n",
      "Top19\n",
      "Top20\n",
      "Top21\n",
      "Top22\n",
      "Top23\n",
      "Top24\n",
      "Top25\n"
     ]
    }
   ],
   "source": [
    "#This code will take 2-3 hours to excecute .The result is saved to a csv file .will be using that csv here after\n",
    "\n",
    "from nltk.sentiment.vader import SentimentIntensityAnalyzer as SIA\n",
    "\n",
    "sia = SIA()\n",
    "\n",
    "columns = list(data.columns)\n",
    "#for i in range(len(data)):\n",
    "for column in columns[2:27]:\n",
    "        print(column)\n",
    "        i=0\n",
    "        for line in data[column]:\n",
    "            #print(line)\n",
    "            #print('\\n\\n@@')\n",
    "            #print(column)\n",
    "\n",
    "            #for i in range(len(train)):\n",
    "            #print(i)\n",
    "            if i==0:\n",
    "                #print(i)\n",
    "                pol_score = sia.polarity_scores(str(line))\n",
    "                data[column +' CompoundValue'] = pol_score['compound']\n",
    "                data[column +' positive'] = pol_score['pos']\n",
    "                data[column +' neutral'] = pol_score['neu']\n",
    "                data[column +' negative'] = pol_score['neg']\n",
    "                i+=1\n",
    "                    \n",
    "            else:\n",
    "                pol_score = sia.polarity_scores(str(line))\n",
    "                data[column +' CompoundValue'][i] = pol_score['compound']\n",
    "                data[column +' positive'][i] = pol_score['pos']\n",
    "                data[column +' neutral'][i] = pol_score['neu']\n",
    "                data[column +' negative'][i] = pol_score['neg']\n",
    "                i+=1\n",
    "                "
   ]
  },
  {
   "cell_type": "code",
   "execution_count": 104,
   "metadata": {},
   "outputs": [
    {
     "data": {
      "text/plain": [
       "Index(['Date', 'Label', 'Top1', 'Top2', 'Top3', 'Top4', 'Top5', 'Top6', 'Top7',\n",
       "       'Top8',\n",
       "       ...\n",
       "       'Top23 neutral', 'Top23 negative', 'Top24 CompoundValue',\n",
       "       'Top24 positive', 'Top24 neutral', 'Top24 negative',\n",
       "       'Top25 CompoundValue', 'Top25 positive', 'Top25 neutral',\n",
       "       'Top25 negative'],\n",
       "      dtype='object', length=128)"
      ]
     },
     "execution_count": 104,
     "metadata": {},
     "output_type": "execute_result"
    }
   ],
   "source": [
    "data.columns"
   ]
  },
  {
   "cell_type": "code",
   "execution_count": 105,
   "metadata": {},
   "outputs": [
    {
     "data": {
      "text/html": [
       "<div>\n",
       "<style scoped>\n",
       "    .dataframe tbody tr th:only-of-type {\n",
       "        vertical-align: middle;\n",
       "    }\n",
       "\n",
       "    .dataframe tbody tr th {\n",
       "        vertical-align: top;\n",
       "    }\n",
       "\n",
       "    .dataframe thead th {\n",
       "        text-align: right;\n",
       "    }\n",
       "</style>\n",
       "<table border=\"1\" class=\"dataframe\">\n",
       "  <thead>\n",
       "    <tr style=\"text-align: right;\">\n",
       "      <th></th>\n",
       "      <th>Date</th>\n",
       "      <th>Label</th>\n",
       "      <th>Top1</th>\n",
       "      <th>Top2</th>\n",
       "      <th>Top3</th>\n",
       "      <th>Top4</th>\n",
       "      <th>Top5</th>\n",
       "      <th>Top6</th>\n",
       "      <th>Top7</th>\n",
       "      <th>Top8</th>\n",
       "      <th>...</th>\n",
       "      <th>Top23 neutral</th>\n",
       "      <th>Top23 negative</th>\n",
       "      <th>Top24 CompoundValue</th>\n",
       "      <th>Top24 positive</th>\n",
       "      <th>Top24 neutral</th>\n",
       "      <th>Top24 negative</th>\n",
       "      <th>Top25 CompoundValue</th>\n",
       "      <th>Top25 positive</th>\n",
       "      <th>Top25 neutral</th>\n",
       "      <th>Top25 negative</th>\n",
       "    </tr>\n",
       "  </thead>\n",
       "  <tbody>\n",
       "    <tr>\n",
       "      <th>0</th>\n",
       "      <td>8/8/2008</td>\n",
       "      <td>0</td>\n",
       "      <td>b\"Georgia 'downs two Russian warplanes' as cou...</td>\n",
       "      <td>b'BREAKING: Musharraf to be impeached.'</td>\n",
       "      <td>b'Russia Today: Columns of troops roll into So...</td>\n",
       "      <td>b'Russian tanks are moving towards the capital...</td>\n",
       "      <td>b\"Afghan children raped with 'impunity,' U.N. ...</td>\n",
       "      <td>b'150 Russian tanks have entered South Ossetia...</td>\n",
       "      <td>b\"Breaking: Georgia invades South Ossetia, Rus...</td>\n",
       "      <td>b\"The 'enemy combatent' trials are nothing but...</td>\n",
       "      <td>...</td>\n",
       "      <td>0.860</td>\n",
       "      <td>0.140</td>\n",
       "      <td>-0.8519</td>\n",
       "      <td>0.000</td>\n",
       "      <td>0.350</td>\n",
       "      <td>0.650</td>\n",
       "      <td>0.4019</td>\n",
       "      <td>0.351</td>\n",
       "      <td>0.649</td>\n",
       "      <td>0.000</td>\n",
       "    </tr>\n",
       "    <tr>\n",
       "      <th>1</th>\n",
       "      <td>8/11/2008</td>\n",
       "      <td>1</td>\n",
       "      <td>b'Why wont America and Nato help us? If they w...</td>\n",
       "      <td>b'Bush puts foot down on Georgian conflict'</td>\n",
       "      <td>b\"Jewish Georgian minister: Thanks to Israeli ...</td>\n",
       "      <td>b'Georgian army flees in disarray as Russians ...</td>\n",
       "      <td>b\"Olympic opening ceremony fireworks 'faked'\"</td>\n",
       "      <td>b'What were the Mossad with fraudulent New Zea...</td>\n",
       "      <td>b'Russia angered by Israeli military sale to G...</td>\n",
       "      <td>b'An American citizen living in S.Ossetia blam...</td>\n",
       "      <td>...</td>\n",
       "      <td>0.753</td>\n",
       "      <td>0.247</td>\n",
       "      <td>-0.1832</td>\n",
       "      <td>0.263</td>\n",
       "      <td>0.414</td>\n",
       "      <td>0.323</td>\n",
       "      <td>0.0000</td>\n",
       "      <td>0.000</td>\n",
       "      <td>1.000</td>\n",
       "      <td>0.000</td>\n",
       "    </tr>\n",
       "    <tr>\n",
       "      <th>2</th>\n",
       "      <td>8/12/2008</td>\n",
       "      <td>0</td>\n",
       "      <td>b'Remember that adorable 9-year-old who sang a...</td>\n",
       "      <td>b\"Russia 'ends Georgia operation'\"</td>\n",
       "      <td>b'\"If we had no sexual harassment we would hav...</td>\n",
       "      <td>b\"Al-Qa'eda is losing support in Iraq because ...</td>\n",
       "      <td>b'Ceasefire in Georgia: Putin Outmaneuvers the...</td>\n",
       "      <td>b'Why Microsoft and Intel tried to kill the XO...</td>\n",
       "      <td>b'Stratfor: The Russo-Georgian War and the Bal...</td>\n",
       "      <td>b\"I'm Trying to Get a Sense of This Whole Geor...</td>\n",
       "      <td>...</td>\n",
       "      <td>0.785</td>\n",
       "      <td>0.074</td>\n",
       "      <td>0.0000</td>\n",
       "      <td>0.000</td>\n",
       "      <td>1.000</td>\n",
       "      <td>0.000</td>\n",
       "      <td>0.0000</td>\n",
       "      <td>0.000</td>\n",
       "      <td>1.000</td>\n",
       "      <td>0.000</td>\n",
       "    </tr>\n",
       "    <tr>\n",
       "      <th>3</th>\n",
       "      <td>8/13/2008</td>\n",
       "      <td>0</td>\n",
       "      <td>b' U.S. refuses Israel weapons to attack Iran:...</td>\n",
       "      <td>b\"When the president ordered to attack Tskhinv...</td>\n",
       "      <td>b' Israel clears troops who killed Reuters cam...</td>\n",
       "      <td>b'Britain\\'s policy of being tough on drugs is...</td>\n",
       "      <td>b'Body of 14 year old found in trunk; Latest (...</td>\n",
       "      <td>b'China has moved 10 *million* quake survivors...</td>\n",
       "      <td>b\"Bush announces Operation Get All Up In Russi...</td>\n",
       "      <td>b'Russian forces sink Georgian ships '</td>\n",
       "      <td>...</td>\n",
       "      <td>0.598</td>\n",
       "      <td>0.402</td>\n",
       "      <td>-0.4215</td>\n",
       "      <td>0.000</td>\n",
       "      <td>0.823</td>\n",
       "      <td>0.177</td>\n",
       "      <td>-0.3400</td>\n",
       "      <td>0.000</td>\n",
       "      <td>0.806</td>\n",
       "      <td>0.194</td>\n",
       "    </tr>\n",
       "    <tr>\n",
       "      <th>4</th>\n",
       "      <td>8/14/2008</td>\n",
       "      <td>1</td>\n",
       "      <td>b'All the experts admit that we should legalis...</td>\n",
       "      <td>b'War in South Osetia - 89 pictures made by a ...</td>\n",
       "      <td>b'Swedish wrestler Ara Abrahamian throws away ...</td>\n",
       "      <td>b'Russia exaggerated the death toll in South O...</td>\n",
       "      <td>b'Missile That Killed 9 Inside Pakistan May Ha...</td>\n",
       "      <td>b\"Rushdie Condemns Random House's Refusal to P...</td>\n",
       "      <td>b'Poland and US agree to missle defense deal. ...</td>\n",
       "      <td>b'Will the Russians conquer Tblisi? Bet on it,...</td>\n",
       "      <td>...</td>\n",
       "      <td>0.571</td>\n",
       "      <td>0.181</td>\n",
       "      <td>-0.6908</td>\n",
       "      <td>0.000</td>\n",
       "      <td>0.427</td>\n",
       "      <td>0.573</td>\n",
       "      <td>0.7096</td>\n",
       "      <td>0.349</td>\n",
       "      <td>0.651</td>\n",
       "      <td>0.000</td>\n",
       "    </tr>\n",
       "  </tbody>\n",
       "</table>\n",
       "<p>5 rows × 128 columns</p>\n",
       "</div>"
      ],
      "text/plain": [
       "        Date  Label                                               Top1  \\\n",
       "0   8/8/2008      0  b\"Georgia 'downs two Russian warplanes' as cou...   \n",
       "1  8/11/2008      1  b'Why wont America and Nato help us? If they w...   \n",
       "2  8/12/2008      0  b'Remember that adorable 9-year-old who sang a...   \n",
       "3  8/13/2008      0  b' U.S. refuses Israel weapons to attack Iran:...   \n",
       "4  8/14/2008      1  b'All the experts admit that we should legalis...   \n",
       "\n",
       "                                                Top2  \\\n",
       "0            b'BREAKING: Musharraf to be impeached.'   \n",
       "1        b'Bush puts foot down on Georgian conflict'   \n",
       "2                 b\"Russia 'ends Georgia operation'\"   \n",
       "3  b\"When the president ordered to attack Tskhinv...   \n",
       "4  b'War in South Osetia - 89 pictures made by a ...   \n",
       "\n",
       "                                                Top3  \\\n",
       "0  b'Russia Today: Columns of troops roll into So...   \n",
       "1  b\"Jewish Georgian minister: Thanks to Israeli ...   \n",
       "2  b'\"If we had no sexual harassment we would hav...   \n",
       "3  b' Israel clears troops who killed Reuters cam...   \n",
       "4  b'Swedish wrestler Ara Abrahamian throws away ...   \n",
       "\n",
       "                                                Top4  \\\n",
       "0  b'Russian tanks are moving towards the capital...   \n",
       "1  b'Georgian army flees in disarray as Russians ...   \n",
       "2  b\"Al-Qa'eda is losing support in Iraq because ...   \n",
       "3  b'Britain\\'s policy of being tough on drugs is...   \n",
       "4  b'Russia exaggerated the death toll in South O...   \n",
       "\n",
       "                                                Top5  \\\n",
       "0  b\"Afghan children raped with 'impunity,' U.N. ...   \n",
       "1      b\"Olympic opening ceremony fireworks 'faked'\"   \n",
       "2  b'Ceasefire in Georgia: Putin Outmaneuvers the...   \n",
       "3  b'Body of 14 year old found in trunk; Latest (...   \n",
       "4  b'Missile That Killed 9 Inside Pakistan May Ha...   \n",
       "\n",
       "                                                Top6  \\\n",
       "0  b'150 Russian tanks have entered South Ossetia...   \n",
       "1  b'What were the Mossad with fraudulent New Zea...   \n",
       "2  b'Why Microsoft and Intel tried to kill the XO...   \n",
       "3  b'China has moved 10 *million* quake survivors...   \n",
       "4  b\"Rushdie Condemns Random House's Refusal to P...   \n",
       "\n",
       "                                                Top7  \\\n",
       "0  b\"Breaking: Georgia invades South Ossetia, Rus...   \n",
       "1  b'Russia angered by Israeli military sale to G...   \n",
       "2  b'Stratfor: The Russo-Georgian War and the Bal...   \n",
       "3  b\"Bush announces Operation Get All Up In Russi...   \n",
       "4  b'Poland and US agree to missle defense deal. ...   \n",
       "\n",
       "                                                Top8  ... Top23 neutral  \\\n",
       "0  b\"The 'enemy combatent' trials are nothing but...  ...         0.860   \n",
       "1  b'An American citizen living in S.Ossetia blam...  ...         0.753   \n",
       "2  b\"I'm Trying to Get a Sense of This Whole Geor...  ...         0.785   \n",
       "3             b'Russian forces sink Georgian ships '  ...         0.598   \n",
       "4  b'Will the Russians conquer Tblisi? Bet on it,...  ...         0.571   \n",
       "\n",
       "  Top23 negative Top24 CompoundValue Top24 positive Top24 neutral  \\\n",
       "0          0.140             -0.8519          0.000         0.350   \n",
       "1          0.247             -0.1832          0.263         0.414   \n",
       "2          0.074              0.0000          0.000         1.000   \n",
       "3          0.402             -0.4215          0.000         0.823   \n",
       "4          0.181             -0.6908          0.000         0.427   \n",
       "\n",
       "  Top24 negative Top25 CompoundValue Top25 positive Top25 neutral  \\\n",
       "0          0.650              0.4019          0.351         0.649   \n",
       "1          0.323              0.0000          0.000         1.000   \n",
       "2          0.000              0.0000          0.000         1.000   \n",
       "3          0.177             -0.3400          0.000         0.806   \n",
       "4          0.573              0.7096          0.349         0.651   \n",
       "\n",
       "  Top25 negative  \n",
       "0          0.000  \n",
       "1          0.000  \n",
       "2          0.000  \n",
       "3          0.194  \n",
       "4          0.000  \n",
       "\n",
       "[5 rows x 128 columns]"
      ]
     },
     "execution_count": 105,
     "metadata": {},
     "output_type": "execute_result"
    }
   ],
   "source": [
    "data.head()"
   ]
  },
  {
   "cell_type": "code",
   "execution_count": 108,
   "metadata": {},
   "outputs": [],
   "source": [
    "data.to_csv(\"combined_with_sentiment.csv\")"
   ]
  },
  {
   "cell_type": "code",
   "execution_count": 110,
   "metadata": {},
   "outputs": [],
   "source": [
    "train = data[data['Date'] < '2015-01-01']\n",
    "test = data[data['Date'] > '2014-12-31']"
   ]
  },
  {
   "cell_type": "code",
   "execution_count": 111,
   "metadata": {},
   "outputs": [
    {
     "data": {
      "text/plain": [
       "Index(['Date', 'Label', 'Top1', 'Top2', 'Top3', 'Top4', 'Top5', 'Top6', 'Top7',\n",
       "       'Top8',\n",
       "       ...\n",
       "       'Top23 negative', 'Top24 CompoundValue', 'Top24 positive',\n",
       "       'Top24 neutral', 'Top24 negative', 'Top25 CompoundValue',\n",
       "       'Top25 positive', 'Top25 neutral', 'Top25 negative', 'mean'],\n",
       "      dtype='object', length=129)"
      ]
     },
     "execution_count": 111,
     "metadata": {},
     "output_type": "execute_result"
    }
   ],
   "source": [
    "test.columns"
   ]
  },
  {
   "cell_type": "code",
   "execution_count": 112,
   "metadata": {},
   "outputs": [
    {
     "name": "stderr",
     "output_type": "stream",
     "text": [
      "C:\\Users\\bibin\\Anaconda2\\envs\\tf_env\\lib\\site-packages\\sklearn\\linear_model\\logistic.py:433: FutureWarning: Default solver will be changed to 'lbfgs' in 0.22. Specify a solver to silence this warning.\n",
      "  FutureWarning)\n"
     ]
    }
   ],
   "source": [
    "from sklearn.linear_model import SGDClassifier, SGDRegressor,LogisticRegression\n",
    "\n",
    "basicmodel = LogisticRegression()\n",
    "basicmodel = basicmodel.fit(train[['mean', 'start_trend']], train[\"Label\"])"
   ]
  },
  {
   "cell_type": "code",
   "execution_count": 113,
   "metadata": {},
   "outputs": [],
   "source": [
    "preds1 = basicmodel.predict(test[['mean', 'start_trend']])"
   ]
  },
  {
   "cell_type": "code",
   "execution_count": 114,
   "metadata": {},
   "outputs": [
    {
     "name": "stdout",
     "output_type": "stream",
     "text": [
      "Logic Regression 1 accuracy:  0.6217838765008576\n"
     ]
    }
   ],
   "source": [
    "from sklearn.metrics import accuracy_score, classification_report, confusion_matrix\n",
    "acc1=accuracy_score(test['Label'], preds1)\n",
    "print('Logic Regression 1 accuracy: ',acc1 )"
   ]
  },
  {
   "cell_type": "code",
   "execution_count": 115,
   "metadata": {},
   "outputs": [
    {
     "data": {
      "text/plain": [
       "0      -0.309440\n",
       "1      -0.120740\n",
       "2      -0.217556\n",
       "3      -0.168724\n",
       "4      -0.130748\n",
       "5      -0.160720\n",
       "6      -0.204204\n",
       "7      -0.273976\n",
       "8      -0.160044\n",
       "9      -0.239532\n",
       "10     -0.078788\n",
       "11     -0.417096\n",
       "12     -0.292036\n",
       "13     -0.206636\n",
       "14     -0.004908\n",
       "15     -0.059024\n",
       "16     -0.245976\n",
       "17     -0.127324\n",
       "18     -0.146444\n",
       "19     -0.237372\n",
       "20     -0.309656\n",
       "21     -0.273152\n",
       "22     -0.256136\n",
       "23     -0.169724\n",
       "24     -0.179732\n",
       "25     -0.238032\n",
       "26     -0.341344\n",
       "27     -0.223168\n",
       "28     -0.305512\n",
       "29     -0.292056\n",
       "          ...   \n",
       "1959   -0.177904\n",
       "1960   -0.319948\n",
       "1961   -0.149340\n",
       "1962   -0.347872\n",
       "1963   -0.237692\n",
       "1964   -0.249088\n",
       "1965   -0.183956\n",
       "1966   -0.337916\n",
       "1967   -0.274064\n",
       "1968   -0.130016\n",
       "1969   -0.257180\n",
       "1970   -0.120532\n",
       "1971   -0.091440\n",
       "1972   -0.088084\n",
       "1973   -0.131348\n",
       "1974   -0.155468\n",
       "1975   -0.152276\n",
       "1976   -0.303500\n",
       "1977   -0.270616\n",
       "1978   -0.295452\n",
       "1979   -0.350348\n",
       "1980   -0.357616\n",
       "1981   -0.095448\n",
       "1982   -0.158004\n",
       "1983   -0.046832\n",
       "1984   -0.142656\n",
       "1985   -0.067312\n",
       "1986   -0.240540\n",
       "1987   -0.280596\n",
       "1988   -0.338272\n",
       "Name: mean, Length: 1166, dtype: float64"
      ]
     },
     "execution_count": 115,
     "metadata": {},
     "output_type": "execute_result"
    }
   ],
   "source": [
    "test['mean']"
   ]
  },
  {
   "cell_type": "code",
   "execution_count": null,
   "metadata": {},
   "outputs": [],
   "source": []
  },
  {
   "cell_type": "code",
   "execution_count": null,
   "metadata": {},
   "outputs": [],
   "source": [
    "1"
   ]
  }
 ],
 "metadata": {
  "kernelspec": {
   "display_name": "Python 3",
   "language": "python",
   "name": "python3"
  },
  "language_info": {
   "codemirror_mode": {
    "name": "ipython",
    "version": 3
   },
   "file_extension": ".py",
   "mimetype": "text/x-python",
   "name": "python",
   "nbconvert_exporter": "python",
   "pygments_lexer": "ipython3",
   "version": "3.7.3"
  }
 },
 "nbformat": 4,
 "nbformat_minor": 2
}
